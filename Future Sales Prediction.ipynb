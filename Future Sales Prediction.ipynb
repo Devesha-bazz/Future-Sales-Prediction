{
 "cells": [
  {
   "cell_type": "markdown",
   "id": "1fee7f3a",
   "metadata": {},
   "source": [
    "### Future Sales Prediction With Machine Learning\n"
   ]
  },
  {
   "cell_type": "code",
   "execution_count": null,
   "id": "8fd1935d",
   "metadata": {},
   "outputs": [],
   "source": [
    "import numpy as np\n",
    "import pandas as pd \n",
    "from sklearn.model_selection import train_test_split\n",
    "from sklearn.linear_model import LinearRegression"
   ]
  },
  {
   "cell_type": "code",
   "execution_count": null,
   "id": "05b16648",
   "metadata": {},
   "outputs": [],
   "source": [
    "data = pd.read_csv(\"advertising.csv\")\n",
    "data.head()"
   ]
  },
  {
   "cell_type": "code",
   "execution_count": null,
   "id": "77237e01",
   "metadata": {},
   "outputs": [],
   "source": [
    "data.isnull().sum()"
   ]
  },
  {
   "cell_type": "code",
   "execution_count": null,
   "id": "6173ae16",
   "metadata": {},
   "outputs": [],
   "source": [
    "import plotly.express as px\n",
    "import plotly.graph_objects as go\n",
    "figure = px.scatter(data_frame = data,x = \"Sales\",\n",
    "                   y = \"TV\" , size = \"TV\", trendline = \"ols\")\n",
    "figure.show()"
   ]
  },
  {
   "cell_type": "code",
   "execution_count": null,
   "id": "8585e0fc",
   "metadata": {},
   "outputs": [],
   "source": [
    "figure = px.scatter(data_frame = data,x = \"Sales\",\n",
    "                   y = \"Newspaper\" , size = \"Newspaper\", trendline = \"ols\")\n",
    "figure.show()"
   ]
  },
  {
   "cell_type": "code",
   "execution_count": null,
   "id": "45183d63",
   "metadata": {},
   "outputs": [],
   "source": [
    "figure = px.scatter(data_frame = data,x = \"Sales\",\n",
    "                   y = \"Radio\" , size = \"Radio\", trendline = \"ols\")\n",
    "figure.show()"
   ]
  },
  {
   "cell_type": "code",
   "execution_count": null,
   "id": "b56043d4",
   "metadata": {},
   "outputs": [],
   "source": [
    "correlation = data.corr()\n",
    "print(correlation[\"Sales\"].sort_values(ascending= False))"
   ]
  },
  {
   "cell_type": "markdown",
   "id": "b95f2be9",
   "metadata": {},
   "source": [
    "### Future Sales Prediction Model"
   ]
  },
  {
   "cell_type": "code",
   "execution_count": null,
   "id": "84db0adb",
   "metadata": {},
   "outputs": [],
   "source": [
    "x = np.array(data.drop([\"Sales\"],1))\n",
    "y = np.array(data[\"Sales\"])\n",
    "xtrain,xtest,ytrain,ytest = train_test_split(x,y,test_size = 0.2,random_state = 42)"
   ]
  },
  {
   "cell_type": "code",
   "execution_count": null,
   "id": "d0a823e4",
   "metadata": {},
   "outputs": [],
   "source": [
    "model = LinearRegression()\n",
    "model.fit(xtrain , ytrain)\n",
    "model.score(xtest , ytest)"
   ]
  },
  {
   "cell_type": "code",
   "execution_count": null,
   "id": "dc97a2a6",
   "metadata": {},
   "outputs": [],
   "source": [
    "features = np.array([[230.1,37.8,69.2]])\n",
    "print(model.predict(features))"
   ]
  }
 ],
 "metadata": {
  "kernelspec": {
   "display_name": "Python 3 (ipykernel)",
   "language": "python",
   "name": "python3"
  },
  "language_info": {
   "codemirror_mode": {
    "name": "ipython",
    "version": 3
   },
   "file_extension": ".py",
   "mimetype": "text/x-python",
   "name": "python",
   "nbconvert_exporter": "python",
   "pygments_lexer": "ipython3",
   "version": "3.11.4"
  }
 },
 "nbformat": 4,
 "nbformat_minor": 5
}
